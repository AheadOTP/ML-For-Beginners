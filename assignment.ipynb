{
 "cells": [
  {
   "cell_type": "code",
   "execution_count": 57,
   "source": [
    "from sklearn.neighbors import KNeighborsClassifier\n",
    "from sklearn.linear_model import LogisticRegression\n",
    "from sklearn.svm import SVC\n",
    "from sklearn.svm import LinearSVC\n",
    "from sklearn.ensemble import RandomForestClassifier, AdaBoostClassifier\n",
    "from sklearn.model_selection import train_test_split, cross_val_score\n",
    "from sklearn.metrics import accuracy_score,precision_score,confusion_matrix,classification_report, precision_recall_curve\n",
    "import numpy as np\n",
    "import pandas as pd\n",
    "from time import time"
   ],
   "outputs": [],
   "metadata": {}
  },
  {
   "cell_type": "code",
   "execution_count": 58,
   "source": [
    "cuisines_df = pd.read_csv(\"../data/cleaned_cuisines.csv\")"
   ],
   "outputs": [],
   "metadata": {}
  },
  {
   "cell_type": "code",
   "execution_count": 59,
   "source": [
    "cuisines_label_df = cuisines_df['cuisine']\n",
    "cuisines_feature_df = cuisines_df.drop(['Unnamed: 0', 'cuisine'], axis=1)"
   ],
   "outputs": [],
   "metadata": {}
  },
  {
   "cell_type": "code",
   "execution_count": 60,
   "source": [
    "X_train, X_test, y_train, y_test = train_test_split(cuisines_feature_df, cuisines_label_df, test_size=0.3)"
   ],
   "outputs": [],
   "metadata": {}
  },
  {
   "cell_type": "code",
   "execution_count": 71,
   "source": [
    "C = 10\n",
    "# Create different classifiers.\n",
    "classifiers = {\n",
    "    'LinearSVC()': LinearSVC(),\n",
    "    'Linear SVC': SVC(kernel='linear', C=C, probability=True,random_state=0),\n",
    "    'KNN classifier': KNeighborsClassifier(),\n",
    "    'SVC': SVC(),\n",
    "    'RFST': RandomForestClassifier(n_estimators=100),\n",
    "    'ADA': AdaBoostClassifier(n_estimators=100)\n",
    "}"
   ],
   "outputs": [],
   "metadata": {}
  },
  {
   "cell_type": "markdown",
   "source": [
    "Base scores from the lesson:"
   ],
   "metadata": {}
  },
  {
   "cell_type": "code",
   "execution_count": 72,
   "source": [
    "n_classifiers = len(classifiers)\n",
    "\n",
    "for index, (name, classifier) in enumerate(classifiers.items()):\n",
    "    classifier.fit(X_train, np.ravel(y_train))\n",
    "\n",
    "    y_pred = classifier.predict(X_test)\n",
    "    accuracy = accuracy_score(y_test, y_pred)\n",
    "    print(\"Accuracy (train) for %s: %0.1f%% \" % (name, accuracy * 100))\n",
    "    print(classification_report(y_test,y_pred))"
   ],
   "outputs": [
    {
     "output_type": "stream",
     "name": "stdout",
     "text": [
      "Accuracy (train) for LinearSVC(): 79.6% \n",
      "              precision    recall  f1-score   support\n",
      "\n",
      "     chinese       0.77      0.71      0.74       268\n",
      "      indian       0.91      0.91      0.91       223\n",
      "    japanese       0.71      0.78      0.75       232\n",
      "      korean       0.83      0.73      0.78       244\n",
      "        thai       0.77      0.86      0.81       232\n",
      "\n",
      "    accuracy                           0.80      1199\n",
      "   macro avg       0.80      0.80      0.80      1199\n",
      "weighted avg       0.80      0.80      0.80      1199\n",
      "\n",
      "Accuracy (train) for Linear SVC: 79.1% \n",
      "              precision    recall  f1-score   support\n",
      "\n",
      "     chinese       0.73      0.72      0.72       268\n",
      "      indian       0.86      0.92      0.89       223\n",
      "    japanese       0.77      0.79      0.78       232\n",
      "      korean       0.83      0.71      0.77       244\n",
      "        thai       0.78      0.83      0.80       232\n",
      "\n",
      "    accuracy                           0.79      1199\n",
      "   macro avg       0.79      0.79      0.79      1199\n",
      "weighted avg       0.79      0.79      0.79      1199\n",
      "\n",
      "Accuracy (train) for KNN classifier: 71.0% \n",
      "              precision    recall  f1-score   support\n",
      "\n",
      "     chinese       0.65      0.67      0.66       268\n",
      "      indian       0.82      0.84      0.83       223\n",
      "    japanese       0.57      0.85      0.68       232\n",
      "      korean       0.87      0.55      0.67       244\n",
      "        thai       0.79      0.66      0.72       232\n",
      "\n",
      "    accuracy                           0.71      1199\n",
      "   macro avg       0.74      0.71      0.71      1199\n",
      "weighted avg       0.74      0.71      0.71      1199\n",
      "\n",
      "Accuracy (train) for SVC: 81.0% \n",
      "              precision    recall  f1-score   support\n",
      "\n",
      "     chinese       0.78      0.75      0.76       268\n",
      "      indian       0.89      0.92      0.91       223\n",
      "    japanese       0.78      0.82      0.80       232\n",
      "      korean       0.85      0.71      0.78       244\n",
      "        thai       0.76      0.87      0.81       232\n",
      "\n",
      "    accuracy                           0.81      1199\n",
      "   macro avg       0.81      0.81      0.81      1199\n",
      "weighted avg       0.81      0.81      0.81      1199\n",
      "\n",
      "Accuracy (train) for RFST: 82.7% \n",
      "              precision    recall  f1-score   support\n",
      "\n",
      "     chinese       0.81      0.76      0.78       268\n",
      "      indian       0.88      0.94      0.91       223\n",
      "    japanese       0.79      0.83      0.81       232\n",
      "      korean       0.86      0.75      0.80       244\n",
      "        thai       0.81      0.88      0.84       232\n",
      "\n",
      "    accuracy                           0.83      1199\n",
      "   macro avg       0.83      0.83      0.83      1199\n",
      "weighted avg       0.83      0.83      0.83      1199\n",
      "\n",
      "Accuracy (train) for ADA: 67.0% \n",
      "              precision    recall  f1-score   support\n",
      "\n",
      "     chinese       0.70      0.44      0.54       268\n",
      "      indian       0.78      0.83      0.81       223\n",
      "    japanese       0.61      0.64      0.63       232\n",
      "      korean       0.65      0.69      0.67       244\n",
      "        thai       0.63      0.78      0.69       232\n",
      "\n",
      "    accuracy                           0.67      1199\n",
      "   macro avg       0.67      0.68      0.67      1199\n",
      "weighted avg       0.67      0.67      0.66      1199\n",
      "\n"
     ]
    }
   ],
   "metadata": {}
  },
  {
   "cell_type": "code",
   "execution_count": 73,
   "source": [
    "X_train.shape"
   ],
   "outputs": [
    {
     "output_type": "execute_result",
     "data": {
      "text/plain": [
       "(2796, 380)"
      ]
     },
     "metadata": {},
     "execution_count": 73
    }
   ],
   "metadata": {}
  },
  {
   "cell_type": "markdown",
   "source": [
    "As we have n_samples > n_features we set dual to False. The combination of penalty='l2' and loss='hinge' are not supported when dual=False, so we only have with the default squared_hinge option for 'loss' parameter. "
   ],
   "metadata": {}
  },
  {
   "cell_type": "code",
   "execution_count": 74,
   "source": [
    "from sklearn.model_selection import GridSearchCV\n",
    "from warnings import simplefilter\n",
    "from sklearn.exceptions import ConvergenceWarning\n",
    "simplefilter(\"ignore\", category=ConvergenceWarning)\n",
    "\n",
    "parameters = [\n",
    "  {\n",
    "  'penalty': ['l1', 'l2'], \n",
    "  'dual': [False], \n",
    "  'C': [1.5, 2, 3], \n",
    "  'tol': [0.125, 0.122, 0.12, 0.115, 0.11, 0.1],\n",
    "  'intercept_scaling': [0.5, 1, 1.5, 2],\n",
    "  'class_weight': [None, 'balanced']\n",
    "  },\n",
    "]\n",
    "\n",
    "lin_svc = LinearSVC()\n",
    "clf = GridSearchCV(lin_svc, parameters, scoring='accuracy', verbose=1)\n",
    "\n",
    "clf.fit(X_train, np.ravel(y_train))\n",
    "\n",
    "y_pred = clf.predict(X_test)\n",
    "accuracy = accuracy_score(y_test, y_pred)\n",
    "print(\"Accuracy (train) for LinearSVC: %0.1f%% \" % (accuracy * 100))\n",
    "print(classification_report(y_test,y_pred))"
   ],
   "outputs": [
    {
     "output_type": "stream",
     "name": "stdout",
     "text": [
      "Fitting 5 folds for each of 288 candidates, totalling 1440 fits\n",
      "Accuracy (train) for LinearSVC: 79.9% \n",
      "              precision    recall  f1-score   support\n",
      "\n",
      "     chinese       0.77      0.71      0.74       268\n",
      "      indian       0.94      0.90      0.92       223\n",
      "    japanese       0.72      0.79      0.75       232\n",
      "      korean       0.82      0.74      0.78       244\n",
      "        thai       0.76      0.88      0.82       232\n",
      "\n",
      "    accuracy                           0.80      1199\n",
      "   macro avg       0.80      0.80      0.80      1199\n",
      "weighted avg       0.80      0.80      0.80      1199\n",
      "\n"
     ]
    }
   ],
   "metadata": {}
  },
  {
   "cell_type": "code",
   "execution_count": 75,
   "source": [
    "best_parameters = clf.best_estimator_.get_params()\n",
    "\n",
    "for param_name in sorted(parameters[0].keys()):\n",
    "    print(\"\\t%s: %r\" % (param_name, best_parameters[param_name]))\n"
   ],
   "outputs": [
    {
     "output_type": "stream",
     "name": "stdout",
     "text": [
      "\tC: 2\n",
      "\tclass_weight: None\n",
      "\tdual: False\n",
      "\tintercept_scaling: 0.5\n",
      "\tpenalty: 'l2'\n",
      "\ttol: 0.11\n"
     ]
    }
   ],
   "metadata": {}
  },
  {
   "cell_type": "code",
   "execution_count": 76,
   "source": [
    "from sklearn.utils.fixes import loguniform\n",
    "from sklearn.model_selection import RandomizedSearchCV\n",
    "\n",
    "linear = LinearSVC()\n",
    "distributions = dict(C=loguniform(0.0001,100), intercept_scaling=loguniform(0.0001,100), tol=loguniform(0.0001,100))\n",
    "clfRand = RandomizedSearchCV(linear, distributions, random_state=0, n_iter=100)\n",
    "\n",
    "clfRand.fit(X_train, np.ravel(y_train))\n",
    "\n",
    "y_pred = clf.predict(X_test)\n",
    "accuracy = accuracy_score(y_test, y_pred)\n",
    "print(\"Accuracy (train) for LinearSVC with randomized search: %0.1f%% \" % (accuracy * 100))\n",
    "print(classification_report(y_test,y_pred))\n",
    "\n",
    "best_parameters = clfRand.best_estimator_.get_params()"
   ],
   "outputs": [
    {
     "output_type": "stream",
     "name": "stdout",
     "text": [
      "Accuracy (train) for LinearSVC with randomized search: 79.9% \n",
      "              precision    recall  f1-score   support\n",
      "\n",
      "     chinese       0.77      0.71      0.74       268\n",
      "      indian       0.94      0.90      0.92       223\n",
      "    japanese       0.72      0.79      0.75       232\n",
      "      korean       0.82      0.74      0.78       244\n",
      "        thai       0.76      0.88      0.82       232\n",
      "\n",
      "    accuracy                           0.80      1199\n",
      "   macro avg       0.80      0.80      0.80      1199\n",
      "weighted avg       0.80      0.80      0.80      1199\n",
      "\n"
     ]
    }
   ],
   "metadata": {}
  },
  {
   "cell_type": "code",
   "execution_count": 77,
   "source": [
    "for param_name in sorted(distributions.keys()):\n",
    "    print(\"\\t%s: %r\" % (param_name, best_parameters[param_name]))"
   ],
   "outputs": [
    {
     "output_type": "stream",
     "name": "stdout",
     "text": [
      "\tC: 0.09646020776080408\n",
      "\tintercept_scaling: 0.6868076096605975\n",
      "\ttol: 0.01627449933008123\n"
     ]
    }
   ],
   "metadata": {}
  },
  {
   "cell_type": "markdown",
   "source": [
    "The Randomized search didn't give significantly different results from the exhaustive grid search for LinearSVC(), in fact tweaking the parameters didn't any significant changes in the performance of the model in comparison to the default model."
   ],
   "metadata": {}
  },
  {
   "cell_type": "code",
   "execution_count": 68,
   "source": [
    "from sklearn.neighbors import KNeighborsClassifier\n",
    "neigh = KNeighborsClassifier()\n",
    "\n",
    "param_dist = {'n_neighbors': np.arange(1, 50), \n",
    "              'weights': ['uniform', 'distance'],\n",
    "              'leaf_size': np.arange(1, 60),\n",
    "              'p': [1, 2],\n",
    "            }\n",
    "\n",
    "n_iter_search = 200\n",
    "\n",
    "randomKNN = RandomizedSearchCV(neigh, param_distributions=param_dist, n_iter = n_iter_search)\n",
    "\n",
    "def report(results, n_top=3):\n",
    "    for i in range(1, n_top + 1):\n",
    "        candidates = np.flatnonzero(results['rank_test_score'] == i)\n",
    "        for candidate in candidates:\n",
    "            print(\"Model with rank: {0}\".format(i))\n",
    "            print(\"Mean validation score: {0:.3f} (std: {1:.3f})\"\n",
    "                  .format(results['mean_test_score'][candidate],\n",
    "                          results['std_test_score'][candidate]))\n",
    "            print(\"Parameters: {0}\".format(results['params'][candidate]))\n",
    "            print(\"\")\n",
    "            \n",
    "start = time()\n",
    "randomKNN.fit(X_train, np.ravel(y_train))\n",
    "print(\"RandomizedSearchCV took %.2f seconds for %d candidates\"\n",
    "      \" parameter settings.\" % ((time() - start), n_iter_search))\n",
    "report(randomKNN.cv_results_)"
   ],
   "outputs": [
    {
     "output_type": "stream",
     "name": "stdout",
     "text": [
      "RandomizedSearchCV took 231.15 seconds for 200 candidates parameter settings.\n",
      "Model with rank: 1\n",
      "Mean validation score: 0.784 (std: 0.008)\n",
      "Parameters: {'weights': 'distance', 'p': 1, 'n_neighbors': 1, 'leaf_size': 31}\n",
      "\n",
      "Model with rank: 1\n",
      "Mean validation score: 0.784 (std: 0.008)\n",
      "Parameters: {'weights': 'uniform', 'p': 1, 'n_neighbors': 1, 'leaf_size': 54}\n",
      "\n",
      "Model with rank: 1\n",
      "Mean validation score: 0.784 (std: 0.008)\n",
      "Parameters: {'weights': 'uniform', 'p': 1, 'n_neighbors': 1, 'leaf_size': 16}\n",
      "\n",
      "Model with rank: 1\n",
      "Mean validation score: 0.784 (std: 0.008)\n",
      "Parameters: {'weights': 'distance', 'p': 1, 'n_neighbors': 1, 'leaf_size': 29}\n",
      "\n",
      "Model with rank: 1\n",
      "Mean validation score: 0.784 (std: 0.008)\n",
      "Parameters: {'weights': 'distance', 'p': 1, 'n_neighbors': 1, 'leaf_size': 37}\n",
      "\n",
      "Model with rank: 1\n",
      "Mean validation score: 0.784 (std: 0.008)\n",
      "Parameters: {'weights': 'uniform', 'p': 1, 'n_neighbors': 1, 'leaf_size': 4}\n",
      "\n",
      "Model with rank: 1\n",
      "Mean validation score: 0.784 (std: 0.008)\n",
      "Parameters: {'weights': 'distance', 'p': 2, 'n_neighbors': 1, 'leaf_size': 16}\n",
      "\n"
     ]
    }
   ],
   "metadata": {}
  },
  {
   "cell_type": "code",
   "execution_count": 69,
   "source": [
    "y_pred = randomKNN.predict(X_test)\n",
    "accuracy = accuracy_score(y_test, y_pred)\n",
    "print(\"Accuracy (train) for RandomKNN with randomized search: %0.1f%% \" % (accuracy * 100))\n",
    "print(classification_report(y_test,y_pred))\n",
    "\n",
    "best_parameters = randomKNN.best_estimator_.get_params()"
   ],
   "outputs": [
    {
     "output_type": "stream",
     "name": "stdout",
     "text": [
      "Accuracy (train) for RandomKNN with randomized search: 75.8% \n",
      "              precision    recall  f1-score   support\n",
      "\n",
      "     chinese       0.73      0.71      0.72       268\n",
      "      indian       0.86      0.86      0.86       223\n",
      "    japanese       0.72      0.82      0.77       232\n",
      "      korean       0.80      0.58      0.67       244\n",
      "        thai       0.72      0.84      0.77       232\n",
      "\n",
      "    accuracy                           0.76      1199\n",
      "   macro avg       0.76      0.76      0.76      1199\n",
      "weighted avg       0.76      0.76      0.76      1199\n",
      "\n"
     ]
    }
   ],
   "metadata": {}
  },
  {
   "cell_type": "markdown",
   "source": [
    "We got a 4.7% accuracy and 5% f1-score improve by fine tuning parameters of a KNN classifier: \n",
    "\n",
    "Parameters of a default KNeighborsClassifier model:\n",
    "n_neighbors: 5\n",
    "weights: uniform\n",
    "leaf_size: 30\n",
    "p: 2\n",
    "\n",
    "Parameters of a KNeighborsClassifier fine tuned by RandomizedSearchCV:\n",
    "n_neighbors: 4\n",
    "weights: distance\n",
    "leaf_size: 49, 32, 17 #supposudely is not the most important parameter as the best models can have different leaf_sizes\n",
    "p: 1\n",
    "\n",
    "the most important of which can be considered 'weights', as it is alone gives a significant accuracy improve:"
   ],
   "metadata": {}
  },
  {
   "cell_type": "code",
   "execution_count": 70,
   "source": [
    "classifier = KNeighborsClassifier(weights='distance')\n",
    "\n",
    "classifier.fit(X_train, np.ravel(y_train))\n",
    "\n",
    "y_pred = classifier.predict(X_test)\n",
    "accuracy = accuracy_score(y_test, y_pred)\n",
    "print(\"Accuracy (train) for KNeighborsClassifier with distance weights: %0.1f%% \" % (accuracy * 100))\n",
    "print(classification_report(y_test,y_pred))"
   ],
   "outputs": [
    {
     "output_type": "stream",
     "name": "stdout",
     "text": [
      "Accuracy (train) for KNeighborsClassifier with distance weights: 73.6% \n",
      "              precision    recall  f1-score   support\n",
      "\n",
      "     chinese       0.70      0.68      0.69       268\n",
      "      indian       0.84      0.86      0.85       223\n",
      "    japanese       0.60      0.86      0.71       232\n",
      "      korean       0.86      0.60      0.71       244\n",
      "        thai       0.80      0.71      0.75       232\n",
      "\n",
      "    accuracy                           0.74      1199\n",
      "   macro avg       0.76      0.74      0.74      1199\n",
      "weighted avg       0.76      0.74      0.74      1199\n",
      "\n"
     ]
    }
   ],
   "metadata": {}
  }
 ],
 "metadata": {
  "interpreter": {
   "hash": "15d53c029ba1972bfc7c21ca26f2f581a52432997426f076feb28e1fe85311ed"
  },
  "kernelspec": {
   "name": "python3",
   "display_name": "Python 3.8.11 64-bit ('microsoft_ml': conda)"
  },
  "language_info": {
   "codemirror_mode": {
    "name": "ipython",
    "version": 3
   },
   "file_extension": ".py",
   "mimetype": "text/x-python",
   "name": "python",
   "nbconvert_exporter": "python",
   "pygments_lexer": "ipython3",
   "version": "3.8.11"
  },
  "metadata": {
   "interpreter": {
    "hash": "70b38d7a306a849643e446cd70466270a13445e5987dfa1344ef2b127438fa4d"
   }
  }
 },
 "nbformat": 4,
 "nbformat_minor": 4
}